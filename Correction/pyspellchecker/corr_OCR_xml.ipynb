{
  "cells": [
    {
      "cell_type": "code",
      "source": [
        "!pip install pyspellchecker"
      ],
      "metadata": {
        "id": "rhaaCR0NSBHf",
        "outputId": "36b85a76-bec8-487d-8910-70bd5e4c05fb",
        "colab": {
          "base_uri": "https://localhost:8080/"
        }
      },
      "execution_count": null,
      "outputs": [
        {
          "output_type": "stream",
          "name": "stdout",
          "text": [
            "Looking in indexes: https://pypi.org/simple, https://us-python.pkg.dev/colab-wheels/public/simple/\n",
            "Collecting pyspellchecker\n",
            "  Downloading pyspellchecker-0.6.3-py3-none-any.whl (2.7 MB)\n",
            "\u001b[K     |████████████████████████████████| 2.7 MB 4.9 MB/s \n",
            "\u001b[?25hInstalling collected packages: pyspellchecker\n",
            "Successfully installed pyspellchecker-0.6.3\n"
          ]
        }
      ]
    },
    {
      "cell_type": "markdown",
      "metadata": {
        "id": "wFTEcQYVRymG"
      },
      "source": [
        "### Correction d'un échantillon XML"
      ]
    },
    {
      "cell_type": "code",
      "execution_count": null,
      "metadata": {
        "scrolled": true,
        "id": "rfAi8BAgRymQ"
      },
      "outputs": [],
      "source": [
        "# importer les librairies nécessaires\n",
        "import os, re, glob, csv\n",
        "from spellchecker import SpellChecker\n",
        "from lxml import etree\n",
        "from collections import Counter\n",
        "\n",
        "    \n",
        "\n",
        "# ignorer les fichiers cachés dans le directoire avec les docs d'entrée (p. ex. le '._5419000_r.xml') \n",
        "def listdir_nohidden(path):\n",
        "    return glob.glob(os.path.join(path, '*'))\n",
        "\n",
        "\n",
        "\n",
        "# spécifier les docs d'entrée (échantillon) à partir desquels les sorties corrigées seront générées\n",
        "directory_in = listdir_nohidden(\"/content/sample_in/\")\n",
        "\n",
        "\n",
        "\n",
        "# enlever l'extension .xml des fichiers d'entrée \n",
        "for file_in in directory_in:\n",
        "    tree = etree.parse(file_in)\n",
        "    root = tree.getroot()\n",
        "    file_in = os.path.basename(file_in)\n",
        "    file_in = os.path.splitext(file_in)[0]\n",
        "    # print(file_in) # 5419000_r, test\n",
        "    \n",
        " \n",
        "\n",
        "    # créer les nouveaux fichiers .txt sur lesquels les corrections seront appliquées par la suite\n",
        "    file_out = '{}'.format(file_in)+'.txt'\n",
        "    # print(file_out) # 5419000_r.txt, test.txt\n",
        "    directory_out = os.path.join(\"/content/sample_out/\", file_out)\n",
        "  \n",
        "\n",
        "    \n",
        "    # créer les nouveaux fichiers .csv où les erreurs avec leurs corrections seront enregistrées\n",
        "    corr_out = os.path.join('/content/csv/', file_in+'.csv')\n",
        "     \n",
        "    \n",
        "    # les caractères spéciaux à enlever\n",
        "    car_spec = ['■', '•', '%', '*', '#', '+', '^', '\\\\', '$', '>', '<', '£', '{', '}'] \n",
        "    \n",
        "    # générer un tableur .csv où les erreurs, les corrections et les fréquences d'erreurs seront stockées\n",
        "    with open(directory_out, 'w') as f, open(corr_out, 'w') as fout:\n",
        "        writer = csv.writer(fout)\n",
        "        writer.writerow([\"Erreur\"'\\t' \"Correction\"'\\t' \"Fréquence\"'\\t']) \n",
        "        \n",
        "        # enlever les balises XML afin de transférer le contenu des fichiers .xml dans les fichiers .txt\n",
        "\n",
        "\n",
        "\n",
        "        for elem in root.iter('*'):\n",
        "            if elem.text is not None:\n",
        "                text = elem.text.strip()\n",
        "                if elem.tail is not None:\n",
        "                     text = elem.text.strip() + str(elem.tail) # pour récupérer le texte dans la balise imbriquée\n",
        "                                                               # ex : par le moyen des <hi rend=\"i\">emblèmes</hi>,\n",
        "                if text: \n",
        "                    for c in car_spec:\n",
        "                        text = text.replace(c,'')\n",
        "\n",
        "                    \n",
        "                    # pré-traitements\n",
        "                    text = re.sub('&', 'et', text) # l'esperluette '&' signifie 'et'\n",
        "                    text = re.sub('« \\n', '', text) # pour concaténer les mots séparés par un trait d'union \n",
        "                                                    # (sous forme d'un guillemet français ouvert)\n",
        "                    text = re.sub(\" +\", \" \", text)  # réduire les espaces multiples en un seul espace\n",
        "                    text = text.lower() # conversion en minuscules\n",
        "                    text = text.replace(\"\\n\", \" \") # pour que chaque ligne commence depuis le tout début, \n",
        "                                                   # et non pas après un espace\n",
        "                    \n",
        "                    # remplacer le guillemet simple par un guillemet français, pour éviter le problème de parsing \n",
        "                    text = text.replace(\"'\", \"’\") \n",
        "                    \n",
        "                    # effacer l'espace avant certains caractères spéciaux\n",
        "                    text = text.replace(' ,', ',') \n",
        "                    text = text.replace(' .','. ')\n",
        "                    text = text.replace(' :',':')\n",
        "                    text = text.replace(' ;',';')\n",
        "                    text = text.replace(' !','!')\n",
        "                    text = re.sub('\\s\\?','?', text)\n",
        "                    text = text.replace(' \"','\"')\n",
        "                    text = text.replace('( ','(')\n",
        "                    text = text.replace(' )',')') \n",
        "                    text = text.replace(' –','-')\n",
        "                    \n",
        "                    # remplacer les tirets moyens et longs par les tirets courts \n",
        "                    text = text.replace('–', '-') \n",
        "                    \n",
        "                    \n",
        "                    # enlever les signes de ponctuation se trouvant à la fin d'un token\n",
        "                    # car le signe de ponctuation empêche le correcteur de corriger la séquence \n",
        "                    # 'token + signe de ponctuation', même si le token est en effet écrit incorrectement\n",
        "                    # ex: 'jeuneffe,' (avec virgule) > 'jeuneffe' (incorrect)\n",
        "                    # au lieu de 'jeuneffe' (sans virgule) > 'jeunesse' (correct)\n",
        "                    text = re.sub('(?<=\\w)[,;:?!.]', '', text)\n",
        "                    \n",
        "                            \n",
        "\n",
        "                    # définir le correcteur d'orthographe français \n",
        "                    # pyspellchecker\n",
        "                    spell = SpellChecker(language='fr')\n",
        "\n",
        "                   \n",
        "                \n",
        "                    # tokeniser le texte avec le tokeniseur standard (ex: 'l'empire')\n",
        "                    # car celui de pyspellchecker tokenise mal (ex: 'l', 'empire')\n",
        "                    token_list = text.split()\n",
        "\n",
        "\n",
        "                    for t in token_list:\n",
        "                    # ne pas corriger les tokens contenant l'apostrophe (ex : l’empire, d’art, s’étend...)\n",
        "                    # ne pas corriger les tokens en parenthèses non plus (ex : (1716-1790))\n",
        "                        r1 = re.findall(r\"(l’\\w+|l’\\w+-\\w+|d’\\w+|d’\\w+|qu’\\w+|c’\\w+|n’\\w+|j’\\w+|lorfqu’\\w+|eft|\\w+.*?\\)|\\(.*?.\\)|\\(.*$)\", t)\n",
        "                        spell.word_frequency.load_words(r1)\n",
        "                        a = spell.known(r1)  # les mots {'ex : l’empire, d’art, s’étend'} sont désormais \n",
        "                                             # dans le dictionnaire des mots corrects\n",
        "                        \n",
        "                    \n",
        "                    \n",
        "                    # corriger les mots incorrects dans le fichier .txt\n",
        "                    # extraire les erreurs, leurs fréquences et leurs corrections dans un tableur .csv\n",
        "                    misspelled = spell.unknown(token_list)\n",
        "                 \n",
        "                    \n",
        "                    \n",
        "                    for m in misspelled:\n",
        "                        corrected = spell.correction(m)\n",
        "                        if m in token_list:\n",
        "                            m_freq = token_list.count(m)\n",
        "                            # print(m_freq)\n",
        "                        # print(m, corrected, str(m_freq))\n",
        "                        text = text.replace(m, corrected)\n",
        "                        # f.write(c.replace('clafliques', 'classiques'))\n",
        "\n",
        "                        fout.write(m+'\\t' + corrected+'\\t' + str(m_freq)+' \\n')\n",
        "#                     print(text)\n",
        "                    f.write(text + \"\\n\")"
      ]
    },
    {
      "cell_type": "code",
      "source": [
        ""
      ],
      "metadata": {
        "id": "_Qx9ob4qSFmS"
      },
      "execution_count": null,
      "outputs": []
    }
  ],
  "metadata": {
    "kernelspec": {
      "display_name": "Python 3",
      "language": "python",
      "name": "python3"
    },
    "language_info": {
      "codemirror_mode": {
        "name": "ipython",
        "version": 3
      },
      "file_extension": ".py",
      "mimetype": "text/x-python",
      "name": "python",
      "nbconvert_exporter": "python",
      "pygments_lexer": "ipython3",
      "version": "3.8.8"
    },
    "toc": {
      "base_numbering": 1,
      "nav_menu": {},
      "number_sections": true,
      "sideBar": true,
      "skip_h1_title": false,
      "title_cell": "Table of Contents",
      "title_sidebar": "Contents",
      "toc_cell": false,
      "toc_position": {},
      "toc_section_display": true,
      "toc_window_display": false
    },
    "colab": {
      "name": "corr_OCR_xml.ipynb",
      "provenance": []
    }
  },
  "nbformat": 4,
  "nbformat_minor": 0
}