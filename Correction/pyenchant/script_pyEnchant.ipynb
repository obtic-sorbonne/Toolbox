{
 "cells": [
  {
   "cell_type": "code",
   "execution_count": null,
   "id": "6c6b84b7",
   "metadata": {
    "scrolled": false
   },
   "outputs": [],
   "source": [
    "!pip install pyenchant==3.0.0a1"
   ]
  },
  {
   "cell_type": "code",
   "execution_count": 7,
   "id": "16d8ab2b",
   "metadata": {
    "scrolled": true
   },
   "outputs": [
    {
     "name": "stdout",
     "output_type": "stream",
     "text": [
      "Requirement already satisfied: pyenchant in /Users/ljudmilapetkovic/opt/anaconda3/lib/python3.8/site-packages/pyenchant-3.2.1-py3.8.egg (3.2.1)\r\n"
     ]
    }
   ],
   "source": [
    "!pip install pyenchant"
   ]
  },
  {
   "cell_type": "code",
   "execution_count": 8,
   "id": "f69f7323",
   "metadata": {
    "scrolled": true
   },
   "outputs": [
    {
     "name": "stdout",
     "output_type": "stream",
     "text": [
      "\u001b[33mWarning:\u001b[0m enchant 2.3.1 is already installed and up-to-date.\r\n",
      "To reinstall 2.3.1, run:\r\n",
      "  brew reinstall enchant\r\n"
     ]
    }
   ],
   "source": [
    "!brew install enchant"
   ]
  },
  {
   "cell_type": "code",
   "execution_count": 4,
   "id": "49f9af82",
   "metadata": {},
   "outputs": [
    {
     "ename": "ImportError",
     "evalue": "The 'enchant' C library was not found and needs to be installed.\nSee  https://pyenchant.github.io/pyenchant/install.html\nfor details\n",
     "output_type": "error",
     "traceback": [
      "\u001b[0;31m---------------------------------------------------------------------------\u001b[0m",
      "\u001b[0;31mImportError\u001b[0m                               Traceback (most recent call last)",
      "\u001b[0;32m/var/folders/yx/k59vssnd3374p3dkld0ctjmc0000gn/T/ipykernel_47421/3747328732.py\u001b[0m in \u001b[0;36m<module>\u001b[0;34m\u001b[0m\n\u001b[0;32m----> 1\u001b[0;31m \u001b[0;32mimport\u001b[0m \u001b[0menchant\u001b[0m\u001b[0;34m\u001b[0m\u001b[0;34m\u001b[0m\u001b[0m\n\u001b[0m",
      "\u001b[0;32m~/opt/anaconda3/lib/python3.8/site-packages/enchant/__init__.py\u001b[0m in \u001b[0;36m<module>\u001b[0;34m\u001b[0m\n\u001b[1;32m     85\u001b[0m \u001b[0;34m\u001b[0m\u001b[0m\n\u001b[1;32m     86\u001b[0m \u001b[0;32mtry\u001b[0m\u001b[0;34m:\u001b[0m\u001b[0;34m\u001b[0m\u001b[0;34m\u001b[0m\u001b[0m\n\u001b[0;32m---> 87\u001b[0;31m     \u001b[0;32mfrom\u001b[0m \u001b[0menchant\u001b[0m \u001b[0;32mimport\u001b[0m \u001b[0m_enchant\u001b[0m \u001b[0;32mas\u001b[0m \u001b[0m_e\u001b[0m\u001b[0;34m\u001b[0m\u001b[0;34m\u001b[0m\u001b[0m\n\u001b[0m\u001b[1;32m     88\u001b[0m \u001b[0;32mexcept\u001b[0m \u001b[0mImportError\u001b[0m\u001b[0;34m:\u001b[0m\u001b[0;34m\u001b[0m\u001b[0;34m\u001b[0m\u001b[0m\n\u001b[1;32m     89\u001b[0m     \u001b[0;32mif\u001b[0m \u001b[0;32mnot\u001b[0m \u001b[0mos\u001b[0m\u001b[0;34m.\u001b[0m\u001b[0menviron\u001b[0m\u001b[0;34m.\u001b[0m\u001b[0mget\u001b[0m\u001b[0;34m(\u001b[0m\u001b[0;34m\"PYENCHANT_IGNORE_MISSING_LIB\"\u001b[0m\u001b[0;34m,\u001b[0m \u001b[0;32mFalse\u001b[0m\u001b[0;34m)\u001b[0m\u001b[0;34m:\u001b[0m\u001b[0;34m\u001b[0m\u001b[0;34m\u001b[0m\u001b[0m\n",
      "\u001b[0;32m~/opt/anaconda3/lib/python3.8/site-packages/enchant/_enchant.py\u001b[0m in \u001b[0;36m<module>\u001b[0;34m\u001b[0m\n\u001b[1;32m    159\u001b[0m         \"\"\"\n\u001b[1;32m    160\u001b[0m     )\n\u001b[0;32m--> 161\u001b[0;31m     \u001b[0;32mraise\u001b[0m \u001b[0mImportError\u001b[0m\u001b[0;34m(\u001b[0m\u001b[0mmsg\u001b[0m\u001b[0;34m)\u001b[0m\u001b[0;34m\u001b[0m\u001b[0;34m\u001b[0m\u001b[0m\n\u001b[0m\u001b[1;32m    162\u001b[0m \u001b[0;34m\u001b[0m\u001b[0m\n\u001b[1;32m    163\u001b[0m \u001b[0;34m\u001b[0m\u001b[0m\n",
      "\u001b[0;31mImportError\u001b[0m: The 'enchant' C library was not found and needs to be installed.\nSee  https://pyenchant.github.io/pyenchant/install.html\nfor details\n"
     ]
    }
   ],
   "source": [
    "import enchant"
   ]
  },
  {
   "cell_type": "code",
   "execution_count": 4,
   "id": "b6d89798",
   "metadata": {},
   "outputs": [
    {
     "ename": "ImportError",
     "evalue": "The 'enchant' C library was not found and needs to be installed.\nSee  https://pyenchant.github.io/pyenchant/install.html\nfor details\n",
     "output_type": "error",
     "traceback": [
      "\u001b[0;31m---------------------------------------------------------------------------\u001b[0m",
      "\u001b[0;31mImportError\u001b[0m                               Traceback (most recent call last)",
      "\u001b[0;32m/var/folders/yx/k59vssnd3374p3dkld0ctjmc0000gn/T/ipykernel_12006/101121729.py\u001b[0m in \u001b[0;36m<module>\u001b[0;34m\u001b[0m\n\u001b[1;32m     20\u001b[0m \u001b[0;31m#et https://github.com/Hiebel/Stage-OBVIL-2020\u001b[0m\u001b[0;34m\u001b[0m\u001b[0;34m\u001b[0m\u001b[0;34m\u001b[0m\u001b[0m\n\u001b[1;32m     21\u001b[0m \u001b[0;34m\u001b[0m\u001b[0m\n\u001b[0;32m---> 22\u001b[0;31m \u001b[0;32mimport\u001b[0m \u001b[0menchant\u001b[0m\u001b[0;31m#la toute premiere fois il faut l'importer depuis cmd: pip install pyenchant\u001b[0m\u001b[0;34m\u001b[0m\u001b[0;34m\u001b[0m\u001b[0m\n\u001b[0m\u001b[1;32m     23\u001b[0m \u001b[0;32mimport\u001b[0m \u001b[0mglob\u001b[0m\u001b[0;34m\u001b[0m\u001b[0;34m\u001b[0m\u001b[0m\n\u001b[1;32m     24\u001b[0m \u001b[0;32mfrom\u001b[0m \u001b[0mlxml\u001b[0m \u001b[0;32mimport\u001b[0m \u001b[0metree\u001b[0m\u001b[0;31m#la premiere fois depuis cmd: pip install lxml\u001b[0m\u001b[0;34m\u001b[0m\u001b[0;34m\u001b[0m\u001b[0m\n",
      "\u001b[0;32m~/opt/anaconda3/lib/python3.8/site-packages/enchant/__init__.py\u001b[0m in \u001b[0;36m<module>\u001b[0;34m\u001b[0m\n\u001b[1;32m     85\u001b[0m \u001b[0;34m\u001b[0m\u001b[0m\n\u001b[1;32m     86\u001b[0m \u001b[0;32mtry\u001b[0m\u001b[0;34m:\u001b[0m\u001b[0;34m\u001b[0m\u001b[0;34m\u001b[0m\u001b[0m\n\u001b[0;32m---> 87\u001b[0;31m     \u001b[0;32mfrom\u001b[0m \u001b[0menchant\u001b[0m \u001b[0;32mimport\u001b[0m \u001b[0m_enchant\u001b[0m \u001b[0;32mas\u001b[0m \u001b[0m_e\u001b[0m\u001b[0;34m\u001b[0m\u001b[0;34m\u001b[0m\u001b[0m\n\u001b[0m\u001b[1;32m     88\u001b[0m \u001b[0;32mexcept\u001b[0m \u001b[0mImportError\u001b[0m\u001b[0;34m:\u001b[0m\u001b[0;34m\u001b[0m\u001b[0;34m\u001b[0m\u001b[0m\n\u001b[1;32m     89\u001b[0m     \u001b[0;32mif\u001b[0m \u001b[0;32mnot\u001b[0m \u001b[0mos\u001b[0m\u001b[0;34m.\u001b[0m\u001b[0menviron\u001b[0m\u001b[0;34m.\u001b[0m\u001b[0mget\u001b[0m\u001b[0;34m(\u001b[0m\u001b[0;34m\"PYENCHANT_IGNORE_MISSING_LIB\"\u001b[0m\u001b[0;34m,\u001b[0m \u001b[0;32mFalse\u001b[0m\u001b[0;34m)\u001b[0m\u001b[0;34m:\u001b[0m\u001b[0;34m\u001b[0m\u001b[0;34m\u001b[0m\u001b[0m\n",
      "\u001b[0;32m~/opt/anaconda3/lib/python3.8/site-packages/enchant/_enchant.py\u001b[0m in \u001b[0;36m<module>\u001b[0;34m\u001b[0m\n\u001b[1;32m    159\u001b[0m         \"\"\"\n\u001b[1;32m    160\u001b[0m     )\n\u001b[0;32m--> 161\u001b[0;31m     \u001b[0;32mraise\u001b[0m \u001b[0mImportError\u001b[0m\u001b[0;34m(\u001b[0m\u001b[0mmsg\u001b[0m\u001b[0;34m)\u001b[0m\u001b[0;34m\u001b[0m\u001b[0;34m\u001b[0m\u001b[0m\n\u001b[0m\u001b[1;32m    162\u001b[0m \u001b[0;34m\u001b[0m\u001b[0m\n\u001b[1;32m    163\u001b[0m \u001b[0;34m\u001b[0m\u001b[0m\n",
      "\u001b[0;31mImportError\u001b[0m: The 'enchant' C library was not found and needs to be installed.\nSee  https://pyenchant.github.io/pyenchant/install.html\nfor details\n"
     ]
    }
   ],
   "source": [
    "'''\n",
    "Accepter txt / xml\n",
    "Modification structure XML\n",
    "Levenstein?\n",
    "Ajouter une liste de mots à ignorer: nombres etc.\n",
    "ar/fr\n",
    "\n",
    "\n",
    "'''\n",
    "\n",
    "\n",
    "#il faut aller à: https://cgit.freedesktop.org/libreoffice/dictionaries/tree/\n",
    "#et télécharger les dico de la langue en question: https://cgit.freedesktop.org/libreoffice/dictionaries/tree/fr_FR\n",
    "#puis télécharger les deux fichiers fr.aff et fr.dic    puis les déposer dans le dossier:\n",
    "#C:\\Program Files\\Lib\\site-packages\\enchant\\data\\mingw64\\share\\enchant\\hunspell\n",
    "\n",
    "\n",
    "#la libraire utilise je pense un traitement de distance livenstein.\n",
    "#voir rapport Nicolas https://docs.google.com/document/d/1xqXQyj21B_7Qe4Bb5BtbgCkkjL7TW_u74rH8KcveEPY/edit#heading=h.frb0dnajfgus\n",
    "#et https://github.com/Hiebel/Stage-OBVIL-2020\n",
    "\n",
    "import enchant#la toute premiere fois il faut l'importer depuis cmd: pip install pyenchant\n",
    "import glob\n",
    "from lxml import etree#la premiere fois depuis cmd: pip install lxml\n",
    "import os\n",
    "from enchant.checker import SpellChecker #la premiere fois depuis cmd: pip install SpellChecker\n",
    "import csv\n",
    "\n",
    "# Fonction de lecture de fichier au format XML-TEI qui renvoie le contenu textuel de la balise \"text\"\n",
    "def lire_TEI_XML(input_file):\n",
    "\tnamespace = \"{http://www.tei-c.org/ns/1.0}text\"\n",
    "\tparser = etree.XMLParser(recover=True)\n",
    "\troot = etree.parse(input_file, parser)\n",
    "\tcontenu = \"\"\n",
    "\tfor texte in root.iter(namespace):\n",
    "\t\ttextes = texte.itertext()\n",
    "\t\tfor cpt, el in enumerate(textes):\n",
    "\t\t\tif el != \"\\n\":\n",
    "\t\t\t\tcontenu += el\n",
    "\t\t\t\tcontenu += \" \"\n",
    "\t\tcontenu = contenu.replace(\"\\n\", \" \")\n",
    "\treturn contenu\n",
    "\n",
    "\n",
    "# Chemin vers le dossier contenant les fichiers texte ou XML-TEI à corriger\n",
    "dossier_corpus = \"Input/\"\n",
    "\n",
    "# Chemin vers le dossier pour enregister les sorties\n",
    "dossier_sortie = \"Output/\"\n",
    "\n",
    "print(enchant.dict_exists(\"fr\"))#ar\n",
    "\n",
    "# Création du dossier de sortie s'il n'existe pas\n",
    "if not os.path.exists(dossier_sortie):\n",
    "\tos.makedirs(dossier_sortie)\n",
    "    \n",
    "# Instance du vérificateur orthographique (la langue est entre parenthèses)\n",
    "chkr = SpellChecker(\"fr\")#ar\n",
    "\n",
    "# Chargement de la liste d'erreurs personnalisée: False veut dire qu'elle n'est pas prise en compte! True le contraire.\n",
    "charger_liste = True\n",
    "\n",
    "if charger_liste:\n",
    "\n",
    "    # Chemhin du fichier csv sous la forme erreur,correction (optionnelle)\n",
    "    chemin_liste = \"Liste_correction/liste.csv\"\n",
    "\n",
    "    # Le fichier csv de la liste de correction contient-il des entetes ? La variable est à True si oui, False sinon\n",
    "    presence_entetes = True\n",
    "\n",
    "    # Si le fichier contient des entêtes (presence_entetes = True), il faut les définir ici\n",
    "    # La première valeur de la liste sera le nom de la colonne des formes erronées, et la deuxième celle des formes correctes\n",
    "    #liste_entetes = [\"Erreur observée\", \"Correction proposée\"]\n",
    "    liste_entetes = [\"forme_erronée\", \"forme_correcte\"]\n",
    "    delimiteur = \",\"\n",
    "    #delimiteur = \"\\t\"\n",
    "    \n",
    "    with open(chemin_liste, \"r\", encoding=\"utf-8\", newline='') as csvfile:\n",
    "        if presence_entetes == False:\n",
    "            reader = csv.reader(csvfile, delimiter=delimiteur)\n",
    "            for row in reader:\n",
    "                print(row)\n",
    "                chkr.replace_always(row[0], row[1])\n",
    "        else:\n",
    "            reader = csv.DictReader(csvfile, delimiter=delimiteur)\n",
    "            for row in reader:\n",
    "                chkr.replace_always(row[liste_entetes[0]], row[liste_entetes[1]])\n",
    "\n",
    "# Chemin du fichier csv qui contiendra la liste des erreurs détectées par le script avec la correction proposée et le fichier d'origine\n",
    "fichier_erreurs = \"%s/erreurs.csv\" % dossier_sortie\n",
    "\n",
    "with open(fichier_erreurs, \"w\", encoding=\"utf-8\", newline='') as csvfile:\n",
    "\tfieldnames = [\"Erreur_détectée\", \"Correction_proposée\", \"Contexte\", \"Fichier\"]\n",
    "\tspamwriter = csv.writer(csvfile, delimiter=\"\\t\")\n",
    "\tspamwriter.writerow(fieldnames)\n",
    "    \n",
    "\tfor fichier in glob.glob(\"%s/*\" % dossier_corpus):\n",
    "\t\textension = fichier.split(\".\")[-1]\n",
    "\t\tif extension == \"txt\" or extension == \"xml\":\n",
    "\t\t\tprint(\"Traitement du fichier %s\" % fichier)\n",
    "\t\t\tnom_fichier = fichier.split(\"/\")[1]\n",
    "\t\t\tsans_extension = nom_fichier.split(\".\")[-2]\n",
    "\t\t\tif extension == \"xml\":\n",
    "\t\t\t\tcontenu = lire_TEI_XML(fichier)\n",
    "\t\t\telse:\n",
    "\t\t\t\twith open(fichier, 'r', encoding = \"utf-8\") as fin:\n",
    "\t\t\t\t\tcontenu = fin.read()\n",
    "\t\t\tchkr.set_text(contenu)\n",
    "\t\t\tfor err in chkr:\n",
    "\t\t\t\tligne = []\n",
    "\t\t\t\tligne.append(err.word)\n",
    "\t\t\t\tif len(chkr.suggest(err.word)) > 0:\n",
    "\t\t\t\t\terr.replace(chkr.suggest(err.word)[0])\n",
    "\t\t\t\t\tligne.append(chkr.suggest(err.word)[0])\n",
    "\t\t\t\telse:\n",
    "\t\t\t\t\tligne.append(\"Pas de correction trouvée\")\n",
    "\t\t\t\tcontexte = err.leading_context(50) + err.word + err.trailing_context(50)\n",
    "\t\t\t\tcontexte = contexte.replace(\"\\n\", \" \")\n",
    "\t\t\t\tligne.append(contexte)\n",
    "\t\t\t\tligne.append(nom_fichier)\n",
    "\t\t\t\tspamwriter.writerow(ligne)\n",
    "\t\t\tcorrection_contenu = chkr.get_text()\n",
    "\t\t\twith open(\"%s/%s_correction.txt\" % (dossier_sortie, sans_extension), 'w', encoding=\"utf-8\") as fout:\n",
    "\t\t\t\tfout.write(correction_contenu)"
   ]
  },
  {
   "cell_type": "code",
   "execution_count": 5,
   "id": "828c32f1",
   "metadata": {},
   "outputs": [
    {
     "ename": "ImportError",
     "evalue": "The 'enchant' C library was not found and maybe needs to be installed.\nSee  https://pyenchant.github.io/pyenchant/install.html\nfor details\n",
     "output_type": "error",
     "traceback": [
      "\u001b[0;31m---------------------------------------------------------------------------\u001b[0m",
      "\u001b[0;31mImportError\u001b[0m                               Traceback (most recent call last)",
      "\u001b[0;32m/var/folders/yx/k59vssnd3374p3dkld0ctjmc0000gn/T/ipykernel_12006/3747328732.py\u001b[0m in \u001b[0;36m<module>\u001b[0;34m\u001b[0m\n\u001b[0;32m----> 1\u001b[0;31m \u001b[0;32mimport\u001b[0m \u001b[0menchant\u001b[0m\u001b[0;34m\u001b[0m\u001b[0;34m\u001b[0m\u001b[0m\n\u001b[0m",
      "\u001b[0;32m~/opt/anaconda3/lib/python3.8/site-packages/pyenchant-3.2.1-py3.8.egg/enchant/__init__.py\u001b[0m in \u001b[0;36m<module>\u001b[0;34m\u001b[0m\n\u001b[1;32m     79\u001b[0m \u001b[0;34m\u001b[0m\u001b[0m\n\u001b[1;32m     80\u001b[0m \u001b[0;32mtry\u001b[0m\u001b[0;34m:\u001b[0m\u001b[0;34m\u001b[0m\u001b[0;34m\u001b[0m\u001b[0m\n\u001b[0;32m---> 81\u001b[0;31m     \u001b[0;32mfrom\u001b[0m \u001b[0menchant\u001b[0m \u001b[0;32mimport\u001b[0m \u001b[0m_enchant\u001b[0m \u001b[0;32mas\u001b[0m \u001b[0m_e\u001b[0m\u001b[0;34m\u001b[0m\u001b[0;34m\u001b[0m\u001b[0m\n\u001b[0m\u001b[1;32m     82\u001b[0m \u001b[0;32mexcept\u001b[0m \u001b[0mImportError\u001b[0m\u001b[0;34m:\u001b[0m\u001b[0;34m\u001b[0m\u001b[0;34m\u001b[0m\u001b[0m\n\u001b[1;32m     83\u001b[0m     \u001b[0;32mif\u001b[0m \u001b[0;32mnot\u001b[0m \u001b[0mos\u001b[0m\u001b[0;34m.\u001b[0m\u001b[0menviron\u001b[0m\u001b[0;34m.\u001b[0m\u001b[0mget\u001b[0m\u001b[0;34m(\u001b[0m\u001b[0;34m\"PYENCHANT_IGNORE_MISSING_LIB\"\u001b[0m\u001b[0;34m,\u001b[0m \u001b[0;32mFalse\u001b[0m\u001b[0;34m)\u001b[0m\u001b[0;34m:\u001b[0m\u001b[0;34m\u001b[0m\u001b[0;34m\u001b[0m\u001b[0m\n",
      "\u001b[0;32m~/opt/anaconda3/lib/python3.8/site-packages/pyenchant-3.2.1-py3.8.egg/enchant/_enchant.py\u001b[0m in \u001b[0;36m<module>\u001b[0;34m\u001b[0m\n\u001b[1;32m    155\u001b[0m         \"\"\"\n\u001b[1;32m    156\u001b[0m     )\n\u001b[0;32m--> 157\u001b[0;31m     \u001b[0;32mraise\u001b[0m \u001b[0mImportError\u001b[0m\u001b[0;34m(\u001b[0m\u001b[0mmsg\u001b[0m\u001b[0;34m)\u001b[0m\u001b[0;34m\u001b[0m\u001b[0;34m\u001b[0m\u001b[0m\n\u001b[0m\u001b[1;32m    158\u001b[0m \u001b[0;34m\u001b[0m\u001b[0m\n\u001b[1;32m    159\u001b[0m \u001b[0;34m\u001b[0m\u001b[0m\n",
      "\u001b[0;31mImportError\u001b[0m: The 'enchant' C library was not found and maybe needs to be installed.\nSee  https://pyenchant.github.io/pyenchant/install.html\nfor details\n"
     ]
    }
   ],
   "source": [
    "import enchant"
   ]
  },
  {
   "cell_type": "code",
   "execution_count": null,
   "id": "540916f7",
   "metadata": {},
   "outputs": [],
   "source": [
    "!export PYENCHANT_LIBRARY_PATH=/usr/local/opt/enchant/lib/libenchant-2.dylib"
   ]
  },
  {
   "cell_type": "code",
   "execution_count": 6,
   "id": "fc0a0c7a",
   "metadata": {},
   "outputs": [
    {
     "ename": "ImportError",
     "evalue": "The 'enchant' C library was not found and maybe needs to be installed.\nSee  https://pyenchant.github.io/pyenchant/install.html\nfor details\n",
     "output_type": "error",
     "traceback": [
      "\u001b[0;31m---------------------------------------------------------------------------\u001b[0m",
      "\u001b[0;31mImportError\u001b[0m                               Traceback (most recent call last)",
      "\u001b[0;32m/var/folders/yx/k59vssnd3374p3dkld0ctjmc0000gn/T/ipykernel_12006/3747328732.py\u001b[0m in \u001b[0;36m<module>\u001b[0;34m\u001b[0m\n\u001b[0;32m----> 1\u001b[0;31m \u001b[0;32mimport\u001b[0m \u001b[0menchant\u001b[0m\u001b[0;34m\u001b[0m\u001b[0;34m\u001b[0m\u001b[0m\n\u001b[0m",
      "\u001b[0;32m~/opt/anaconda3/lib/python3.8/site-packages/pyenchant-3.2.1-py3.8.egg/enchant/__init__.py\u001b[0m in \u001b[0;36m<module>\u001b[0;34m\u001b[0m\n\u001b[1;32m     79\u001b[0m \u001b[0;34m\u001b[0m\u001b[0m\n\u001b[1;32m     80\u001b[0m \u001b[0;32mtry\u001b[0m\u001b[0;34m:\u001b[0m\u001b[0;34m\u001b[0m\u001b[0;34m\u001b[0m\u001b[0m\n\u001b[0;32m---> 81\u001b[0;31m     \u001b[0;32mfrom\u001b[0m \u001b[0menchant\u001b[0m \u001b[0;32mimport\u001b[0m \u001b[0m_enchant\u001b[0m \u001b[0;32mas\u001b[0m \u001b[0m_e\u001b[0m\u001b[0;34m\u001b[0m\u001b[0;34m\u001b[0m\u001b[0m\n\u001b[0m\u001b[1;32m     82\u001b[0m \u001b[0;32mexcept\u001b[0m \u001b[0mImportError\u001b[0m\u001b[0;34m:\u001b[0m\u001b[0;34m\u001b[0m\u001b[0;34m\u001b[0m\u001b[0m\n\u001b[1;32m     83\u001b[0m     \u001b[0;32mif\u001b[0m \u001b[0;32mnot\u001b[0m \u001b[0mos\u001b[0m\u001b[0;34m.\u001b[0m\u001b[0menviron\u001b[0m\u001b[0;34m.\u001b[0m\u001b[0mget\u001b[0m\u001b[0;34m(\u001b[0m\u001b[0;34m\"PYENCHANT_IGNORE_MISSING_LIB\"\u001b[0m\u001b[0;34m,\u001b[0m \u001b[0;32mFalse\u001b[0m\u001b[0;34m)\u001b[0m\u001b[0;34m:\u001b[0m\u001b[0;34m\u001b[0m\u001b[0;34m\u001b[0m\u001b[0m\n",
      "\u001b[0;32m~/opt/anaconda3/lib/python3.8/site-packages/pyenchant-3.2.1-py3.8.egg/enchant/_enchant.py\u001b[0m in \u001b[0;36m<module>\u001b[0;34m\u001b[0m\n\u001b[1;32m    155\u001b[0m         \"\"\"\n\u001b[1;32m    156\u001b[0m     )\n\u001b[0;32m--> 157\u001b[0;31m     \u001b[0;32mraise\u001b[0m \u001b[0mImportError\u001b[0m\u001b[0;34m(\u001b[0m\u001b[0mmsg\u001b[0m\u001b[0;34m)\u001b[0m\u001b[0;34m\u001b[0m\u001b[0;34m\u001b[0m\u001b[0m\n\u001b[0m\u001b[1;32m    158\u001b[0m \u001b[0;34m\u001b[0m\u001b[0m\n\u001b[1;32m    159\u001b[0m \u001b[0;34m\u001b[0m\u001b[0m\n",
      "\u001b[0;31mImportError\u001b[0m: The 'enchant' C library was not found and maybe needs to be installed.\nSee  https://pyenchant.github.io/pyenchant/install.html\nfor details\n"
     ]
    }
   ],
   "source": [
    "import enchant"
   ]
  },
  {
   "cell_type": "code",
   "execution_count": null,
   "id": "af5c2e43",
   "metadata": {},
   "outputs": [],
   "source": []
  }
 ],
 "metadata": {
  "kernelspec": {
   "display_name": "Python 3 (ipykernel)",
   "language": "python",
   "name": "python3"
  },
  "language_info": {
   "codemirror_mode": {
    "name": "ipython",
    "version": 3
   },
   "file_extension": ".py",
   "mimetype": "text/x-python",
   "name": "python",
   "nbconvert_exporter": "python",
   "pygments_lexer": "ipython3",
   "version": "3.8.8"
  },
  "toc": {
   "base_numbering": 1,
   "nav_menu": {},
   "number_sections": true,
   "sideBar": true,
   "skip_h1_title": false,
   "title_cell": "Table of Contents",
   "title_sidebar": "Contents",
   "toc_cell": false,
   "toc_position": {},
   "toc_section_display": true,
   "toc_window_display": false
  }
 },
 "nbformat": 4,
 "nbformat_minor": 5
}
